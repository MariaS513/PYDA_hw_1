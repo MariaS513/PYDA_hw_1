{
 "cells": [
  {
   "cell_type": "markdown",
   "metadata": {},
   "source": [
    "**Задание 1**. Даны 2 строки: *long_phrase* и *short_phrase*. \n",
    "Напишите код, который проверяет действительно ли длинная фраза *long_phrase* длиннее короткой *short_phrase*. И выводит *True* или *False* в зависимости от результата сравнения."
   ]
  },
  {
   "cell_type": "code",
   "execution_count": 1,
   "metadata": {},
   "outputs": [
    {
     "name": "stdout",
     "output_type": "stream",
     "text": [
      "True\n"
     ]
    }
   ],
   "source": [
    "long_phrase = 'Насколько проще было бы писать программы, если бы не заказчики'\n",
    "short_phrase = '640Кб должно хватить для любых задач. Билл Гейтс (по легенде)'\n",
    "print(long_phrase > short_phrase)"
   ]
  },
  {
   "cell_type": "markdown",
   "metadata": {},
   "source": [
    "**Задание 2**. Дано значение объема файла в байтах. Напишите перевод этого значения в мегабайты в формате: \"*Объем файла равен 213.68Mb*\""
   ]
  },
  {
   "cell_type": "code",
   "execution_count": 2,
   "metadata": {},
   "outputs": [
    {
     "name": "stdout",
     "output_type": "stream",
     "text": [
      "Объем файла равен 213.68Mb\n"
     ]
    }
   ],
   "source": [
    "x = 213.68 * 10**6\n",
    "print('Объем файла равен ', x / 10**6,'Mb', sep = '')"
   ]
  },
  {
   "cell_type": "markdown",
   "metadata": {},
   "source": [
    "**Задание 3**. Разработать приложение для определения знака зодиака по дате рождения. Пример:\n",
    "\n",
    "Введите месяц: март\n",
    "\n",
    "Введите число: 6\n",
    "\n",
    "Вывод:\n",
    "Рыбы"
   ]
  },
  {
   "cell_type": "code",
   "execution_count": 3,
   "metadata": {},
   "outputs": [
    {
     "name": "stdout",
     "output_type": "stream",
     "text": [
      "Введите месяц: март\n",
      "Введите число: 6\n",
      "Рыбы\n"
     ]
    }
   ],
   "source": [
    "month = input('Введите месяц: ')\n",
    "date = int(input('Введите число: '))\n",
    "\n",
    "if month == 'январь' and date <= 19:\n",
    "    print('Козерог')\n",
    "elif month == 'январь':\n",
    "    print('Водолей')\n",
    "elif month == 'февраль' and date <= 19:\n",
    "    print('Водолей')\n",
    "elif month == 'февраль':\n",
    "    print('Рыбы')\n",
    "elif month == 'март' and date <= 21:\n",
    "    print('Рыбы')\n",
    "elif month == 'март':\n",
    "    print('Овен')\n",
    "elif month == 'апрель' and date <= 21:\n",
    "    print('Овен')\n",
    "elif month == 'апрель':\n",
    "    print('Телец')\n",
    "elif month == 'май' and date <= 21:\n",
    "    print('Телец')\n",
    "elif month == 'май':\n",
    "    print('Близнецы')\n",
    "elif month == 'июнь' and date <= 21:\n",
    "    print('Близнецы')\n",
    "elif month == 'июнь':\n",
    "    print('Рак')\n",
    "elif month == 'июль' and date <= 21:\n",
    "    print('Рак')\n",
    "elif month == 'июль':\n",
    "    print('Лев')\n",
    "elif month == 'август' and date <= 21:\n",
    "    print('Лев')\n",
    "elif month == 'август':\n",
    "    print('Дева')\n",
    "elif month == 'сентябрь' and date <= 21:\n",
    "    print('Дева')\n",
    "elif month == 'сентябрь':\n",
    "    print('Весы')\n",
    "elif month == 'октябрь' and date <= 21:\n",
    "    print('Весы')\n",
    "elif month == 'октябрь':\n",
    "    print('Скорпион')\n",
    "elif month == 'ноябрь' and date <= 20:\n",
    "    print('Скорпион')\n",
    "elif month == 'ноябрь':\n",
    "    print('Стрелец')\n",
    "elif month == 'декабрь' and date <= 21:\n",
    "    print('Стрелец')\n",
    "elif month == 'декабрь':\n",
    "    print('Стрелец')\n",
    "else:\n",
    "    print('Ошибка ввода')"
   ]
  },
  {
   "cell_type": "markdown",
   "metadata": {},
   "source": [
    "**Задание 4**. Нужно разработать приложение для финансового планирования.\n",
    "Приложение учитывает сколько уходит на ипотеку, \"на жизнь\" и сколько нужно отложить на пенсию.\n",
    "Пользователь вводит:\n",
    "- заработанную плату в месяц.\n",
    "- сколько процентов от ЗП уходит на ипотеку.\n",
    "- сколько процентов от ЗП уходит \"на жизнь\".\n",
    "- сколько раз приходит премия в год.\n",
    "\n",
    "Остальная часть заработанной платы откладывается на пенсию.\n",
    "\n",
    "Также пользователю приходит премия в размере зарплаты, от которой половина уходит на отпуск, а вторая половина откладывается.\n",
    "\n",
    "Программа должна учитывать сколько премий было в год.\n",
    "\n",
    "Нужно вывести сколько денег тратит пользователь на ипотеку и сколько он накопит за год.\n",
    "\n",
    "Пример:\n",
    "\n",
    "Введите заработанную плату в месяц: 100000\n",
    "\n",
    "Введите сколько процентов уходит на ипотеку: 30\n",
    "\n",
    "Введите сколько процентов уходит на жизнь: 50\n",
    "\n",
    "Введите количество премий за год: 2\n",
    "\n",
    "Вывод:\n",
    "На ипотеку было потрачено: 360000 рублей\n",
    "Было накоплено: 340000 рублей"
   ]
  },
  {
   "cell_type": "code",
   "execution_count": 1,
   "metadata": {},
   "outputs": [
    {
     "name": "stdout",
     "output_type": "stream",
     "text": [
      "Введите заработанную плату в месяц: 10000\n",
      "Введите сколько процентов уходит на ипотеку: 10\n",
      "Введите сколько процентов уходит на жизнь: 80\n",
      "Введите количество премий за год: 0\n",
      "На ипотеку было потрачено: 12000  рублей\n",
      "Было накоплено: 12000  рублей\n"
     ]
    }
   ],
   "source": [
    "salary = int(input('Введите заработанную плату в месяц: '))\n",
    "mortgage = int(input('Введите сколько процентов уходит на ипотеку: '))\n",
    "life = int(input('Введите сколько процентов уходит на жизнь: '))\n",
    "bonus = int(input('Введите количество премий за год: '))\n",
    "\n",
    "print('На ипотеку было потрачено:',int(salary * mortgage / 100 * 12), ' рублей')\n",
    "print('Было накоплено:',int(salary * (12 * (100 - mortgage - life ) / 100 + bonus / 2)), ' рублей')"
   ]
  },
  {
   "cell_type": "markdown",
   "metadata": {},
   "source": [
    "  "
   ]
  },
  {
   "cell_type": "markdown",
   "metadata": {},
   "source": [
    "# Дополнительное задание"
   ]
  },
  {
   "cell_type": "markdown",
   "metadata": {},
   "source": [
    "## Задание 1\n",
    "https://ru.wikipedia.org/wiki/Fizz_buzz\n",
    "Начинающий произносит число “1”, и каждый следующий игрок прибавляет к предыдущему значению единицу. Когда число делится на три оно заменяется на fizz, если число делится на пять, то произносится buzz. Числа, делящиеся на три и пять одновременно заменяются на fizz buzz. Сделавший ошибку игрок исключается из игры.\n",
    "\n",
    "Типичная партия в fizz buzz выглядит так:\n",
    "1, 2, Fizz, 4, Buzz, Fizz, 7, 8, Fizz, Buzz, 11, Fizz, 13, 14, Fizz Buzz, 16, 17, Fizz, 19, Buzz, Fizz, 22, 23, Fizz, Buzz, 26, Fizz, 28, 29, Fizz Buzz, 31, 32, Fizz, 34, Buzz, Fizz, …\n",
    "\n",
    "Напишите код, выводящий на экран первые n элементов этой игры (естественно, корректные)."
   ]
  },
  {
   "cell_type": "code",
   "execution_count": 13,
   "metadata": {},
   "outputs": [
    {
     "name": "stdout",
     "output_type": "stream",
     "text": [
      "1, 2, Fizz, 4, Buzz, Fizz, 7, 8, Fizz, Buzz, 11, Fizz, 13, 14, Fizz Buzz, 16"
     ]
    }
   ],
   "source": [
    "x = 1\n",
    "n = 16\n",
    "\n",
    "while x < n:\n",
    "    if (x % 3 == 0) and (x % 5 == 0):\n",
    "        print('Fizz Buzz', end = ', ')\n",
    "    elif x % 3 == 0:\n",
    "        print('Fizz', end = ', ')\n",
    "    elif x % 5 == 0:\n",
    "        print('Buzz', end = ', ')\n",
    "    else:\n",
    "        print(x, end = ', ')\n",
    "    x = x + 1\n",
    "print (x, end = '')"
   ]
  },
  {
   "cell_type": "markdown",
   "metadata": {},
   "source": [
    "# Задание 3\n",
    "Дано слово из латинских букв. Напишите скрипт, который выводит на экран букву из середины слова (если число букв нечетное). Если букв четное число, то на экран выводятся две буквы из середины.\n",
    "\n",
    "Для ‘test’ - 'es’\n",
    "Для ‘testing’ - ‘t’"
   ]
  },
  {
   "cell_type": "code",
   "execution_count": 31,
   "metadata": {},
   "outputs": [
    {
     "name": "stdout",
     "output_type": "stream",
     "text": [
      "es\n"
     ]
    }
   ],
   "source": [
    "word = 'test'\n",
    "\n",
    "n = len(word)\n",
    "\n",
    "if n % 2 == 0:\n",
    "    print(f'{word[int(n / 2 - 1)]}{word[int(n / 2)]}')\n",
    "else:\n",
    "    print(word[int((n - 1) / 2)])\n"
   ]
  },
  {
   "cell_type": "code",
   "execution_count": null,
   "metadata": {},
   "outputs": [],
   "source": []
  }
 ],
 "metadata": {
  "kernelspec": {
   "display_name": "Python 3",
   "language": "python",
   "name": "python3"
  },
  "language_info": {
   "codemirror_mode": {
    "name": "ipython",
    "version": 3
   },
   "file_extension": ".py",
   "mimetype": "text/x-python",
   "name": "python",
   "nbconvert_exporter": "python",
   "pygments_lexer": "ipython3",
   "version": "3.7.4"
  }
 },
 "nbformat": 4,
 "nbformat_minor": 2
}
